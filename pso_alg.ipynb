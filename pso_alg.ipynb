{
 "cells": [
  {
   "cell_type": "code",
   "execution_count": null,
   "metadata": {},
   "outputs": [],
   "source": [
    "from sklearn.datasets import fetch_openml\n",
    "\n",
    "mnist = fetch_openml('mnist_784', version=1)\n",
    "X, y = mnist.data, mnist.target"
   ]
  },
  {
   "cell_type": "code",
   "execution_count": null,
   "metadata": {},
   "outputs": [],
   "source": [
    "import numpy as np\n",
    "from sklearn.ensemble import RandomForestClassifier\n",
    "from sklearn.model_selection import train_test_split\n",
    "import random\n",
    "\n",
    "# Define your dataset and objective function here\n",
    "# Replace these placeholders with your dataset\n",
    "\n",
    "# Split your data into training and testing sets\n",
    "X_train, X_test, y_train, y_test = train_test_split(X, y, test_size=0.2, random_state=42)\n",
    "\n",
    "# PSO Parameters\n",
    "num_particles = 30\n",
    "num_iterations = 100\n",
    "num_features = X_train.shape[1]  # Number of features\n",
    "population = []"
   ]
  },
  {
   "cell_type": "code",
   "execution_count": null,
   "metadata": {},
   "outputs": [],
   "source": [
    "# Initialize the population\n",
    "for _ in range(num_particles):\n",
    "    particle = [random.randint(0, 1) for _ in range(num_features)]\n",
    "    population.append(particle)\n",
    "\n",
    "# Define the PSO function\n",
    "def pso_feature_selection(X_train, y_train, X_test, y_test, population, num_iterations):\n",
    "    global_best = None\n",
    "    global_best_accuracy = 0.0\n",
    "\n",
    "    for _ in range(num_iterations):\n",
    "        for i, particle in enumerate(population):\n",
    "            # Create a feature mask based on the particle\n",
    "            feature_mask = np.array(particle, dtype=bool)\n",
    "            \n",
    "            # Train a Random Forest classifier using selected features\n",
    "            clf = RandomForestClassifier(n_estimators=100, random_state=42)\n",
    "            clf.fit(X_train[:, feature_mask], y_train)\n",
    "            \n",
    "            # Evaluate accuracy on the test set\n",
    "            accuracy = clf.score(X_test[:, feature_mask], y_test)\n",
    "\n",
    "            if accuracy > global_best_accuracy:\n",
    "                global_best = particle.copy()\n",
    "                global_best_accuracy = accuracy\n",
    "\n",
    "            # Update velocity and position (adjust this part according to your needs)\n",
    "            for j in range(len(particle)):\n",
    "                if random.random() < 0.5:\n",
    "                    particle[j] = 1 if random.random() < 0.5 else 0\n",
    "\n",
    "        print(f\"Iteration {i}: Best Accuracy = {global_best_accuracy}\")\n",
    "\n",
    "    return global_best"
   ]
  },
  {
   "cell_type": "code",
   "execution_count": null,
   "metadata": {},
   "outputs": [],
   "source": [
    "# Perform feature selection using PSO\n",
    "selected_features = pso_feature_selection(X_train, y_train, X_test, y_test, population, num_iterations)\n",
    "\n",
    "# Convert the selected features to a binary mask\n",
    "feature_mask = np.array(selected_features, dtype=bool)\n",
    "\n",
    "# Apply the selected feature mask to your dataset\n",
    "X_train_selected = X_train[:, feature_mask]\n",
    "X_test_selected = X_test[:, feature_mask]\n",
    "\n",
    "# Train your machine learning model using the selected features\n",
    "clf = RandomForestClassifier(n_estimators=100, random_state=42)\n",
    "clf.fit(X_train_selected, y_train)\n",
    "\n",
    "# Evaluate the model on the test set\n",
    "accuracy = clf.score(X_test_selected, y_test)\n",
    "print(f\"Final Accuracy on Test Set: {accuracy}\")"
   ]
  }
 ],
 "metadata": {
  "kernelspec": {
   "display_name": "Python 3",
   "language": "python",
   "name": "python3"
  },
  "language_info": {
   "name": "python",
   "version": "3.11.4"
  }
 },
 "nbformat": 4,
 "nbformat_minor": 2
}
