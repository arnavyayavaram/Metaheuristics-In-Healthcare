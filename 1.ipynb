{
 "cells": [
  {
   "cell_type": "code",
   "execution_count": 1,
   "metadata": {},
   "outputs": [
    {
     "name": "stdout",
     "output_type": "stream",
     "text": [
      "{'uci_id': 80, 'name': 'Optical Recognition of Handwritten Digits', 'repository_url': 'https://archive.ics.uci.edu/dataset/80/optical+recognition+of+handwritten+digits', 'data_url': 'https://archive.ics.uci.edu/static/public/80/data.csv', 'abstract': 'Two versions of this database available; see folder', 'area': 'Computer Science', 'tasks': ['Classification'], 'characteristics': ['Multivariate'], 'num_instances': 5620, 'num_features': 64, 'feature_types': ['Integer'], 'demographics': [], 'target_col': ['class'], 'index_col': None, 'has_missing_values': 'no', 'missing_values_symbol': None, 'year_of_dataset_creation': 1998, 'last_updated': 'Wed Aug 23 2023', 'dataset_doi': '10.24432/C50P49', 'creators': ['E. Alpaydin', 'C. Kaynak'], 'intro_paper': {'title': 'Methods of Combining Multiple Classifiers and Their Applications to Handwritten Digit Recognition', 'authors': 'C. Kaynak', 'published_in': 'MSc Thesis, Institute of Graduate Studies in Science and Engineering, Bogazici University', 'year': 1995, 'url': None, 'doi': None}, 'additional_info': {'summary': 'We used preprocessing programs made available by NIST to extract normalized bitmaps of handwritten digits from a preprinted form. From a total of 43 people, 30 contributed to the training set and different 13 to the test set. 32x32 bitmaps are divided into nonoverlapping blocks of 4x4 and the number of on pixels are counted in each block. This generates an input matrix of 8x8 where each element is an integer in the range 0..16. This reduces dimensionality and gives invariance to small distortions.\\r\\n\\r\\nFor info on NIST preprocessing routines, see M. D. Garris, J. L. Blue, G. T. Candela, D. L. Dimmick, J. Geist, P. J. Grother, S. A. Janet, and C. L. Wilson, NIST Form-Based Handprint Recognition System, NISTIR 5469, 1994.', 'purpose': None, 'funded_by': None, 'instances_represent': None, 'recommended_data_splits': None, 'sensitive_data': None, 'preprocessing_description': None, 'variable_info': 'All input attributes are integers in the range 0..16.\\r\\nThe last attribute is the class code 0..9', 'citation': None}}\n",
      "           name     role         type demographic description units  \\\n",
      "0    Attribute1  Feature      Integer        None        None  None   \n",
      "1    Attribute2  Feature      Integer        None        None  None   \n",
      "2    Attribute3  Feature      Integer        None        None  None   \n",
      "3    Attribute4  Feature      Integer        None        None  None   \n",
      "4    Attribute5  Feature      Integer        None        None  None   \n",
      "..          ...      ...          ...         ...         ...   ...   \n",
      "60  Attribute61  Feature      Integer        None        None  None   \n",
      "61  Attribute62  Feature      Integer        None        None  None   \n",
      "62  Attribute63  Feature      Integer        None        None  None   \n",
      "63  Attribute64  Feature      Integer        None        None  None   \n",
      "64        class   Target  Categorical        None        None  None   \n",
      "\n",
      "   missing_values  \n",
      "0              no  \n",
      "1              no  \n",
      "2              no  \n",
      "3              no  \n",
      "4              no  \n",
      "..            ...  \n",
      "60             no  \n",
      "61             no  \n",
      "62             no  \n",
      "63             no  \n",
      "64             no  \n",
      "\n",
      "[65 rows x 7 columns]\n"
     ]
    }
   ],
   "source": [
    "from ucimlrepo import fetch_ucirepo \n",
    "\n",
    "# fetch dataset \n",
    "optical_recognition_of_handwritten_digits = fetch_ucirepo(id=80) \n",
    "  \n",
    "# data (as pandas dataframes) \n",
    "X = optical_recognition_of_handwritten_digits.data.features \n",
    "y = optical_recognition_of_handwritten_digits.data.targets \n",
    "  \n",
    "# metadata \n",
    "print(optical_recognition_of_handwritten_digits.metadata) \n",
    "\n",
    "# variable information \n",
    "print(optical_recognition_of_handwritten_digits.variables) "
   ]
  },
  {
   "cell_type": "code",
   "execution_count": 2,
   "metadata": {},
   "outputs": [],
   "source": [
    "y= y.to_numpy()\n",
    "y =y.ravel()"
   ]
  },
  {
   "cell_type": "code",
   "execution_count": 3,
   "metadata": {},
   "outputs": [],
   "source": [
    "import numpy as np\n",
    "import random"
   ]
  },
  {
   "cell_type": "code",
   "execution_count": 4,
   "metadata": {},
   "outputs": [],
   "source": [
    "from sklearn.model_selection import train_test_split\n",
    "from sklearn.ensemble import RandomForestClassifier\n",
    "from sklearn.svm import SVC\n",
    "import xgboost as xgb\n",
    "from sklearn.metrics import accuracy_score"
   ]
  },
  {
   "cell_type": "code",
   "execution_count": 5,
   "metadata": {},
   "outputs": [
    {
     "name": "stdout",
     "output_type": "stream",
     "text": [
      "Accuracy: 0.9750889679715302\n"
     ]
    }
   ],
   "source": [
    "X_train, X_test, y_train, y_test = train_test_split(X, y, test_size=0.3, random_state=42)\n",
    "\n",
    "rf_classifier = RandomForestClassifier(n_estimators=100, random_state=42)\n",
    "\n",
    "rf_classifier.fit(X_train, y_train)\n",
    "\n",
    "y_pred = rf_classifier.predict(X_test)\n",
    "\n",
    "accuracy = accuracy_score(y_test, y_pred)\n",
    "print(f\"Accuracy: {accuracy}\")"
   ]
  },
  {
   "cell_type": "code",
   "execution_count": 6,
   "metadata": {},
   "outputs": [
    {
     "name": "stdout",
     "output_type": "stream",
     "text": [
      "Accuracy: 0.9733096085409253\n"
     ]
    }
   ],
   "source": [
    "svm_classifier = SVC(kernel='linear', C=1.0)\n",
    "\n",
    "svm_classifier.fit(X_train, y_train)\n",
    "\n",
    "y_pred = svm_classifier.predict(X_test)\n",
    "\n",
    "accuracy = accuracy_score(y_test, y_pred)\n",
    "print(f\"Accuracy: {accuracy}\")"
   ]
  },
  {
   "cell_type": "code",
   "execution_count": 7,
   "metadata": {},
   "outputs": [
    {
     "name": "stdout",
     "output_type": "stream",
     "text": [
      "Accuracy: 0.966785290628707\n"
     ]
    }
   ],
   "source": [
    "xgb_classifier = xgb.XGBClassifier()\n",
    "xgb_classifier.fit(X_train, y_train)\n",
    "\n",
    "y_pred = xgb_classifier.predict(X_test)\n",
    "\n",
    "accuracy = accuracy_score(y_test, y_pred)\n",
    "print(f\"Accuracy: {accuracy}\")"
   ]
  },
  {
   "cell_type": "code",
   "execution_count": 8,
   "metadata": {},
   "outputs": [],
   "source": [
    "def cal_pop_fitness(pop, X_train, y_train, X_test, y_test):\n",
    "    fitness = []\n",
    "    for i in range(len(pop)):\n",
    "        columns = np.unique(pop[i])\n",
    "        \n",
    "        X_train_ind = X_train.iloc[:,columns]\n",
    "        rf_classifier = RandomForestClassifier(n_estimators=100, random_state=42)\n",
    "        rf_classifier.fit(X_train_ind, y_train)\n",
    "\n",
    "        y_pred = rf_classifier.predict(X_test.iloc[:,columns])\n",
    "\n",
    "        accuracy = accuracy_score(y_test, y_pred)\n",
    "\n",
    "        fitness.append(accuracy)\n",
    "\n",
    "    return fitness\n",
    "\n",
    "def fit_svm(pop, X_train, y_train, X_test, y_test):\n",
    "    fitness = []\n",
    "    for i in range(len(pop)):\n",
    "        columns = np.unique(pop[i])\n",
    "        \n",
    "        X_train_ind = X_train.iloc[:, columns]\n",
    "        svm_classifier = SVC(kernel='linear', C=1.0)\n",
    "        svm_classifier.fit(X_train_ind, y_train)\n",
    "\n",
    "        y_pred = svm_classifier.predict(X_test.iloc[:, columns])\n",
    "\n",
    "        accuracy = accuracy_score(y_test, y_pred)\n",
    "\n",
    "        fitness.append(accuracy)\n",
    "\n",
    "    return fitness\n",
    "\n",
    "def fit_xgboost(pop, X_train, y_train, X_test, y_test):\n",
    "    fitness = []\n",
    "    for i in range(len(pop)):\n",
    "        columns = np.unique(pop[i])\n",
    "        \n",
    "        X_train_ind = X_train.iloc[:, columns]\n",
    "        xgb_classifier = xgb.XGBClassifier()\n",
    "        xgb_classifier.fit(X_train_ind, y_train)\n",
    "\n",
    "        y_pred = xgb_classifier.predict(X_test.iloc[:, columns])\n",
    "\n",
    "        accuracy = accuracy_score(y_test, y_pred)\n",
    "\n",
    "        fitness.append(accuracy)\n",
    "\n",
    "    return fitness\n",
    "\n",
    "def select_mating_pool(pop, fitness, num_parents):\n",
    "    # Selecting the best individuals in the current generation as parents for producing the offspring of the next generation.\n",
    "    parents = np.empty((num_parents, pop.shape[1]))\n",
    "    for parent_num in range(num_parents):\n",
    "        max_fitness_idx = np.where(fitness == np.max(fitness))\n",
    "        max_fitness_idx = max_fitness_idx[0][0]\n",
    "        parents[parent_num, :] = pop[max_fitness_idx, :]\n",
    "        fitness[max_fitness_idx] = -1\n",
    "    return parents\n",
    "\n",
    "def crossover(parents, offspring_size):\n",
    "    offspring = np.empty(offspring_size)\n",
    "\n",
    "    for k in range(offspring_size[0]):\n",
    "        # Always perform one-point crossover.\n",
    "        crossover_point = np.random.randint(1, parents.shape[1])\n",
    "        parent1_idx = k % parents.shape[0]\n",
    "        parent2_idx = (k + 1) % parents.shape[0]\n",
    "        offspring[k, :crossover_point] = parents[parent1_idx, :crossover_point]\n",
    "        offspring[k, crossover_point:] = parents[parent2_idx, crossover_point:]\n",
    "\n",
    "    return offspring\n",
    "\n",
    "def mutation(offspring_crossover):\n",
    "    # Mutation changes a single gene in each offspring randomly.\n",
    "    for idx in range(offspring_crossover.shape[0]):\n",
    "        # The random value to be added to the gene.\n",
    "        random_value = np.random.uniform(-1.0, 1.0, 1)\n",
    "        offspring_crossover[idx, 4] = offspring_crossover[idx, 4] + random_value\n",
    "    return offspring_crossover"
   ]
  },
  {
   "cell_type": "code",
   "execution_count": 9,
   "metadata": {},
   "outputs": [
    {
     "name": "stdout",
     "output_type": "stream",
     "text": [
      "[[ 5 34 15 33  0 60 37 51]\n",
      " [32 28 42 58 31 53 38 27]\n",
      " [24 16 23 40 33  7 54 41]\n",
      " [47 62 48 21 28 53 20 58]\n",
      " [43 56  6  9 38 61 54 32]\n",
      " [31 32 62 33 16 36 20 19]\n",
      " [53 20 48 24 16 35 47 56]\n",
      " [62 10 10  2 44 32 32 36]\n",
      " [31 14 61 21 14 23 24 18]\n",
      " [ 3 35 45 18 12 23 58  6]\n",
      " [25  6 52  6 58 27 60 11]\n",
      " [34 30  1 15  8 61 12 48]\n",
      " [38 13 35 56 37 17  4 60]\n",
      " [19 28 23 14  0  0  1 34]\n",
      " [16  4  7 24 59  9 28 35]\n",
      " [12 59 45 58 60 30 58 53]]\n"
     ]
    }
   ],
   "source": [
    "col_len = 8\n",
    "\n",
    "sol_per_pop = 16\n",
    "num_parents_mating = 8\n",
    "\n",
    "# Defining the population size.\n",
    "pop_size = (sol_per_pop,col_len) # The population will have sol_per_pop chromosome where each chromosome has num_weights genes.\n",
    "#Creating the initial population.\n",
    "new_population = np.random.randint(63, size=pop_size)\n",
    "print(new_population)"
   ]
  },
  {
   "cell_type": "code",
   "execution_count": 10,
   "metadata": {},
   "outputs": [
    {
     "name": "stdout",
     "output_type": "stream",
     "text": [
      "[0.6346381969157769, 0.7230130486358244, 0.41637010676156583, 0.7461447212336892, 0.6565836298932385, 0.6500593119810202, 0.44780545670225386, 0.5693950177935944, 0.5255041518386714, 0.6850533807829181, 0.6690391459074733, 0.5652431791221827, 0.6731909845788849, 0.529655990510083, 0.5652431791221827, 0.6838671411625148]\n",
      "Generation :  0\n",
      "\n",
      "[0.7461447212336892, 0.7230130486358244, 0.6850533807829181, 0.6838671411625148, 0.6731909845788849, 0.6690391459074733, 0.6565836298932385, 0.6500593119810202, 0.6447212336892052, 0.66785290628707, 0.7153024911032029, 0.6441281138790036, 0.7034400948991696, 0.6393831553973903, 0.7437722419928826, 0.6500593119810202]\n",
      "[0.7461447212336892, 0.7437722419928826, 0.7230130486358244, 0.7153024911032029, 0.7034400948991696, 0.6850533807829181, 0.6838671411625148, 0.6731909845788849, 0.7443653618030842, 0.6524317912218268, 0.6631079478054567, 0.7093712930011863, 0.5889679715302492, 0.7117437722419929, 0.7188612099644128, 0.7876631079478055]\n",
      "[0.7876631079478055, 0.7461447212336892, 0.7443653618030842, 0.7437722419928826, 0.7230130486358244, 0.7188612099644128, 0.7153024911032029, 0.7117437722419929, 0.7965599051008304, 0.7384341637010676, 0.7443653618030842, 0.6482799525504152, 0.6423487544483986, 0.693950177935943, 0.7117437722419929, 0.7864768683274022]\n",
      "[0.7965599051008304, 0.7876631079478055, 0.7864768683274022, 0.7461447212336892, 0.7443653618030842, 0.7443653618030842, 0.7437722419928826, 0.7384341637010676, 0.7876631079478055, 0.7876631079478055, 0.7580071174377224, 0.732502965599051, 0.7443653618030842, 0.669632265717675, 0.730723606168446, 0.730723606168446]\n",
      "[0.7965599051008304, 0.7876631079478055, 0.7876631079478055, 0.7876631079478055, 0.7864768683274022, 0.7580071174377224, 0.7461447212336892, 0.7443653618030842, 0.7965599051008304, 0.7876631079478055, 0.7876631079478055, 0.8214709371293001, 0.7787663107947805, 0.7580071174377224, 0.7384341637010676, 0.7461447212336892]\n",
      "[0.8214709371293001, 0.7965599051008304, 0.7965599051008304, 0.7876631079478055, 0.7876631079478055, 0.7876631079478055, 0.7876631079478055, 0.7876631079478055, 0.8214709371293001, 0.7965599051008304, 0.7876631079478055, 0.7876631079478055, 0.7876631079478055, 0.7876631079478055, 0.7876631079478055, 0.8214709371293001]\n",
      "[0.8214709371293001, 0.8214709371293001, 0.8214709371293001, 0.7965599051008304, 0.7965599051008304, 0.7965599051008304, 0.7876631079478055, 0.7876631079478055, 0.8214709371293001, 0.8214709371293001, 0.8214709371293001, 0.7965599051008304, 0.7965599051008304, 0.7876631079478055, 0.7876631079478055, 0.7876631079478055]\n",
      "[0.8214709371293001, 0.8214709371293001, 0.8214709371293001, 0.8214709371293001, 0.8214709371293001, 0.8214709371293001, 0.7965599051008304, 0.7965599051008304, 0.8214709371293001, 0.8214709371293001, 0.8214709371293001, 0.8214709371293001, 0.8214709371293001, 0.8214709371293001, 0.7965599051008304, 0.7965599051008304]\n",
      "[0.8214709371293001, 0.8214709371293001, 0.8214709371293001, 0.8214709371293001, 0.8214709371293001, 0.8214709371293001, 0.8214709371293001, 0.8214709371293001, 0.8214709371293001, 0.8214709371293001, 0.8214709371293001, 0.8214709371293001, 0.8214709371293001, 0.8214709371293001, 0.8214709371293001, 0.8214709371293001]\n"
     ]
    }
   ],
   "source": [
    "num_generations = 10\n",
    "for generation in range(num_generations):\n",
    "    # Measing the fitness of each chromosome in the population.\n",
    "    fitness = fit_xgboost(new_population, X_train,y_train,X_test,y_test)\n",
    "\n",
    "    print(fitness)\n",
    "\n",
    "    # Selecting the best parents in the population for mating.\n",
    "    parents = select_mating_pool(new_population, fitness, \n",
    "                                      num_parents_mating)\n",
    "    \n",
    "    # print(parents)\n",
    "\n",
    "    # Generating next generation using crossover.\n",
    "    offspring_crossover = crossover(parents,\n",
    "                                       offspring_size=(pop_size[0]-parents.shape[0], col_len))\n",
    "\n",
    "\n",
    "    # # Adding some variations to the offsrping using mutation.\n",
    "    # offspring_mutation = mutation(offspring_crossover)\n",
    "\n",
    "    # print(offspring_mutation)\n",
    "\n",
    "    # Creating the new population based on the parents and offspring.\n",
    "    new_population[0:parents.shape[0], :] = parents\n",
    "    new_population[parents.shape[0]:, :] = offspring_crossover  # should be offspring_mutation\n",
    "\n",
    "    # new_population[0:parents.shape[0], :] = offspring_crossover\n",
    "\n",
    "    # The best result in the current iteration.\n",
    "    if generation%10 ==0:\n",
    "        print(\"Generation : \", generation)\n",
    "        # print(offspring_crossover)\n",
    "        print()"
   ]
  },
  {
   "cell_type": "code",
   "execution_count": 11,
   "metadata": {},
   "outputs": [
    {
     "name": "stdout",
     "output_type": "stream",
     "text": [
      "Best solution :  [[[38 13 45 18 60 30 20 58]\n",
      "  [38 13 45 18 60 30 20 58]\n",
      "  [38 13 45 18 60 30 20 58]\n",
      "  [38 13 45 18 60 30 20 58]\n",
      "  [38 13 45 18 60 30 20 58]\n",
      "  [38 13 45 18 60 30 20 58]\n",
      "  [38 13 45 18 60 30 20 58]\n",
      "  [38 13 45 18 60 30 20 58]\n",
      "  [38 13 45 18 60 30 20 58]\n",
      "  [38 13 45 18 60 30 20 58]\n",
      "  [38 13 45 18 60 30 20 58]\n",
      "  [38 13 45 18 60 30 20 58]\n",
      "  [38 13 45 18 60 30 20 58]\n",
      "  [38 13 45 18 60 30 20 58]\n",
      "  [38 13 45 18 60 30 20 58]\n",
      "  [38 13 45 18 60 30 20 58]]]\n",
      "Best solution fitness :  0.8214709371293001\n"
     ]
    }
   ],
   "source": [
    "# Getting the best solution after iterating finishing all generations.\n",
    "#At first, the fitness is calculated for each solution in the final generation.\n",
    "fitness = fit_xgboost(new_population, X_train, y_train, X_test,y_test)\n",
    "# Then return the index of that solution corresponding to the best fitness.\n",
    "best_match_idx = np.where(fitness == np.max(fitness))\n",
    "\n",
    "print(\"Best solution : \", new_population[best_match_idx, :])\n",
    "print(\"Best solution fitness : \", fitness[best_match_idx[0][0]])"
   ]
  }
 ],
 "metadata": {
  "kernelspec": {
   "display_name": "Python 3",
   "language": "python",
   "name": "python3"
  },
  "language_info": {
   "codemirror_mode": {
    "name": "ipython",
    "version": 3
   },
   "file_extension": ".py",
   "mimetype": "text/x-python",
   "name": "python",
   "nbconvert_exporter": "python",
   "pygments_lexer": "ipython3",
   "version": "3.11.4"
  }
 },
 "nbformat": 4,
 "nbformat_minor": 2
}
