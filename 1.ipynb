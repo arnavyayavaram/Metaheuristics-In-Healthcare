{
 "cells": [
  {
   "cell_type": "code",
   "execution_count": 1,
   "metadata": {},
   "outputs": [
    {
     "name": "stdout",
     "output_type": "stream",
     "text": [
      "{'uci_id': 80, 'name': 'Optical Recognition of Handwritten Digits', 'repository_url': 'https://archive.ics.uci.edu/dataset/80/optical+recognition+of+handwritten+digits', 'data_url': 'https://archive.ics.uci.edu/static/public/80/data.csv', 'abstract': 'Two versions of this database available; see folder', 'area': 'Computer Science', 'tasks': ['Classification'], 'characteristics': ['Multivariate'], 'num_instances': 5620, 'num_features': 64, 'feature_types': ['Integer'], 'demographics': [], 'target_col': ['class'], 'index_col': None, 'has_missing_values': 'no', 'missing_values_symbol': None, 'year_of_dataset_creation': 1998, 'last_updated': 'Wed Aug 23 2023', 'dataset_doi': '10.24432/C50P49', 'creators': ['E. Alpaydin', 'C. Kaynak'], 'intro_paper': {'title': 'Methods of Combining Multiple Classifiers and Their Applications to Handwritten Digit Recognition', 'authors': 'C. Kaynak', 'published_in': 'MSc Thesis, Institute of Graduate Studies in Science and Engineering, Bogazici University', 'year': 1995, 'url': None, 'doi': None}, 'additional_info': {'summary': 'We used preprocessing programs made available by NIST to extract normalized bitmaps of handwritten digits from a preprinted form. From a total of 43 people, 30 contributed to the training set and different 13 to the test set. 32x32 bitmaps are divided into nonoverlapping blocks of 4x4 and the number of on pixels are counted in each block. This generates an input matrix of 8x8 where each element is an integer in the range 0..16. This reduces dimensionality and gives invariance to small distortions.\\r\\n\\r\\nFor info on NIST preprocessing routines, see M. D. Garris, J. L. Blue, G. T. Candela, D. L. Dimmick, J. Geist, P. J. Grother, S. A. Janet, and C. L. Wilson, NIST Form-Based Handprint Recognition System, NISTIR 5469, 1994.', 'purpose': None, 'funded_by': None, 'instances_represent': None, 'recommended_data_splits': None, 'sensitive_data': None, 'preprocessing_description': None, 'variable_info': 'All input attributes are integers in the range 0..16.\\r\\nThe last attribute is the class code 0..9', 'citation': None}}\n",
      "           name     role         type demographic description units  \\\n",
      "0    Attribute1  Feature      Integer        None        None  None   \n",
      "1    Attribute2  Feature      Integer        None        None  None   \n",
      "2    Attribute3  Feature      Integer        None        None  None   \n",
      "3    Attribute4  Feature      Integer        None        None  None   \n",
      "4    Attribute5  Feature      Integer        None        None  None   \n",
      "..          ...      ...          ...         ...         ...   ...   \n",
      "60  Attribute61  Feature      Integer        None        None  None   \n",
      "61  Attribute62  Feature      Integer        None        None  None   \n",
      "62  Attribute63  Feature      Integer        None        None  None   \n",
      "63  Attribute64  Feature      Integer        None        None  None   \n",
      "64        class   Target  Categorical        None        None  None   \n",
      "\n",
      "   missing_values  \n",
      "0              no  \n",
      "1              no  \n",
      "2              no  \n",
      "3              no  \n",
      "4              no  \n",
      "..            ...  \n",
      "60             no  \n",
      "61             no  \n",
      "62             no  \n",
      "63             no  \n",
      "64             no  \n",
      "\n",
      "[65 rows x 7 columns]\n"
     ]
    }
   ],
   "source": [
    "from ucimlrepo import fetch_ucirepo \n",
    "\n",
    "# fetch dataset \n",
    "optical_recognition_of_handwritten_digits = fetch_ucirepo(id=80) \n",
    "  \n",
    "# data (as pandas dataframes) \n",
    "X = optical_recognition_of_handwritten_digits.data.features \n",
    "y = optical_recognition_of_handwritten_digits.data.targets \n",
    "  \n",
    "# metadata \n",
    "print(optical_recognition_of_handwritten_digits.metadata) \n",
    "\n",
    "# variable information \n",
    "print(optical_recognition_of_handwritten_digits.variables) "
   ]
  },
  {
   "cell_type": "code",
   "execution_count": 2,
   "metadata": {},
   "outputs": [],
   "source": [
    "y= y.to_numpy()\n",
    "y =y.ravel()"
   ]
  },
  {
   "cell_type": "code",
   "execution_count": 3,
   "metadata": {},
   "outputs": [],
   "source": [
    "import numpy as np\n",
    "import random"
   ]
  },
  {
   "cell_type": "code",
   "execution_count": 4,
   "metadata": {},
   "outputs": [],
   "source": [
    "from sklearn.model_selection import train_test_split\n",
    "from sklearn.ensemble import RandomForestClassifier\n",
    "from sklearn.svm import SVC\n",
    "import xgboost as xgb\n",
    "from sklearn.metrics import accuracy_score"
   ]
  },
  {
   "cell_type": "code",
   "execution_count": 5,
   "metadata": {},
   "outputs": [
    {
     "name": "stdout",
     "output_type": "stream",
     "text": [
      "Accuracy: 0.9750889679715302\n"
     ]
    }
   ],
   "source": [
    "X_train, X_test, y_train, y_test = train_test_split(X, y, test_size=0.3, random_state=42)\n",
    "\n",
    "rf_classifier = RandomForestClassifier(n_estimators=100, random_state=42)\n",
    "\n",
    "rf_classifier.fit(X_train, y_train)\n",
    "\n",
    "y_pred = rf_classifier.predict(X_test)\n",
    "\n",
    "accuracy = accuracy_score(y_test, y_pred)\n",
    "print(f\"Accuracy: {accuracy}\")"
   ]
  },
  {
   "cell_type": "code",
   "execution_count": 6,
   "metadata": {},
   "outputs": [
    {
     "name": "stdout",
     "output_type": "stream",
     "text": [
      "Accuracy: 0.9733096085409253\n"
     ]
    }
   ],
   "source": [
    "svm_classifier = SVC(kernel='linear', C=1.0)\n",
    "\n",
    "svm_classifier.fit(X_train, y_train)\n",
    "\n",
    "y_pred = svm_classifier.predict(X_test)\n",
    "\n",
    "accuracy = accuracy_score(y_test, y_pred)\n",
    "print(f\"Accuracy: {accuracy}\")"
   ]
  },
  {
   "cell_type": "code",
   "execution_count": 8,
   "metadata": {},
   "outputs": [
    {
     "name": "stdout",
     "output_type": "stream",
     "text": [
      "Accuracy: 0.966785290628707\n"
     ]
    }
   ],
   "source": [
    "xgb_classifier = xgb.XGBClassifier()\n",
    "xgb_classifier.fit(X_train, y_train)\n",
    "\n",
    "y_pred = xgb_classifier.predict(X_test)\n",
    "\n",
    "accuracy = accuracy_score(y_test, y_pred)\n",
    "print(f\"Accuracy: {accuracy}\")"
   ]
  },
  {
   "cell_type": "code",
   "execution_count": 7,
   "metadata": {},
   "outputs": [],
   "source": [
    "def cal_pop_fitness(pop, X_train, y_train, X_test, y_test):\n",
    "    fitness = []\n",
    "    for i in range(len(pop)):\n",
    "        columns = np.unique(pop[i])\n",
    "        \n",
    "        X_train_ind = X_train.iloc[:,columns]\n",
    "        rf_classifier = RandomForestClassifier(n_estimators=100, random_state=42)\n",
    "        rf_classifier.fit(X_train_ind, y_train)\n",
    "\n",
    "        y_pred = rf_classifier.predict(X_test.iloc[:,columns])\n",
    "\n",
    "        accuracy = accuracy_score(y_test, y_pred)\n",
    "\n",
    "        fitness.append(accuracy)\n",
    "\n",
    "    return fitness\n",
    "\n",
    "def fit_svm(pop, X_train, y_train, X_test, y_test):\n",
    "    fitness = []\n",
    "    for i in range(len(pop)):\n",
    "        columns = np.unique(pop[i])\n",
    "        \n",
    "        X_train_ind = X_train.iloc[:, columns]\n",
    "        svm_classifier = SVC(kernel='linear', C=1.0)\n",
    "        svm_classifier.fit(X_train_ind, y_train)\n",
    "\n",
    "        y_pred = svm_classifier.predict(X_test.iloc[:, columns])\n",
    "\n",
    "        accuracy = accuracy_score(y_test, y_pred)\n",
    "\n",
    "        fitness.append(accuracy)\n",
    "\n",
    "    return fitness\n",
    "\n",
    "def fit_xgboost(pop, X_train, y_train, X_test, y_test):\n",
    "    fitness = []\n",
    "    for i in range(len(pop)):\n",
    "        columns = np.unique(pop[i])\n",
    "        \n",
    "        X_train_ind = X_train.iloc[:, columns]\n",
    "        xgb_classifier = xgb.XGBClassifier()\n",
    "        xgb_classifier.fit(X_train_ind, y_train)\n",
    "\n",
    "        y_pred = xgb_classifier.predict(X_test.iloc[:, columns])\n",
    "\n",
    "        accuracy = accuracy_score(y_test, y_pred)\n",
    "\n",
    "        fitness.append(accuracy)\n",
    "\n",
    "    return fitness\n",
    "\n",
    "def select_mating_pool(pop, fitness, num_parents):\n",
    "    # Selecting the best individuals in the current generation as parents for producing the offspring of the next generation.\n",
    "    parents = np.empty((num_parents, pop.shape[1]))\n",
    "    for parent_num in range(num_parents):\n",
    "        max_fitness_idx = np.where(fitness == np.max(fitness))\n",
    "        max_fitness_idx = max_fitness_idx[0][0]\n",
    "        parents[parent_num, :] = pop[max_fitness_idx, :]\n",
    "        fitness[max_fitness_idx] = -1\n",
    "    return parents\n",
    "\n",
    "def crossover(parents, offspring_size):\n",
    "    offspring = np.empty(offspring_size)\n",
    "\n",
    "    for k in range(offspring_size[0]):\n",
    "        # Always perform one-point crossover.\n",
    "        crossover_point = np.random.randint(1, parents.shape[1])\n",
    "        parent1_idx = k % parents.shape[0]\n",
    "        parent2_idx = (k + 1) % parents.shape[0]\n",
    "        offspring[k, :crossover_point] = parents[parent1_idx, :crossover_point]\n",
    "        offspring[k, crossover_point:] = parents[parent2_idx, crossover_point:]\n",
    "\n",
    "    return offspring\n",
    "\n",
    "def mutation(offspring_crossover):\n",
    "    # Mutation changes a single gene in each offspring randomly.\n",
    "    for idx in range(offspring_crossover.shape[0]):\n",
    "        # The random value to be added to the gene.\n",
    "        random_value = np.random.uniform(-1.0, 1.0, 1)\n",
    "        offspring_crossover[idx, 4] = offspring_crossover[idx, 4] + random_value\n",
    "    return offspring_crossover"
   ]
  },
  {
   "cell_type": "code",
   "execution_count": 8,
   "metadata": {},
   "outputs": [
    {
     "name": "stdout",
     "output_type": "stream",
     "text": [
      "[[28  0 47 18 25 53 22 41 61 14 11 22 47 32  1 61 51 23 42  2 58 31 29  9\n",
      "  44 19  8 21 35 12 55 26]\n",
      " [21 10 16 20 15 50  4  9 46 14 18 25  5 14 41 25 27  2 30 40 38 42 14 38\n",
      "  44 17 54 12 29 11 23 11]\n",
      " [29 38 54 57 41 47 44 49 15 23 48 18  5 26 31  1 54 55 13 51 36 26 17 49\n",
      "  33 47 35 60  5 45 43  4]\n",
      " [27 36  7 52 13 24 41 44  5  6 26 52 34 50  8 14 48 52 12 24 57 41 40 14\n",
      "  27 32 21  7  2 12 37 56]\n",
      " [61 11 14  6  8  9 12  7 53  8 46 13 30 23 61 23 54 11 41 41 44 61  2 59\n",
      "  26 18 48 12 44 41 46 45]\n",
      " [44 11 46 58 14  5 26 36  3 22 17 62 55 14 13 21 59 49 34  6 61  8 52 11\n",
      "  16 30 14 45 40 45  3  9]\n",
      " [57 60 44  6 61 62 40 30 25 35 23 49  9 57 12 11 58 11 60 47 62 58 59 25\n",
      "  15 20 42  1 35 29 16  0]\n",
      " [43  1 51 18 16 62 53 52  9 36  0 30  2  2  0 27  3 12 50 13 37  6  7 32\n",
      "  42 36 47 56  5 44 50 29]]\n"
     ]
    }
   ],
   "source": [
    "col_len = 32\n",
    "\n",
    "sol_per_pop = 8\n",
    "num_parents_mating = 4\n",
    "\n",
    "# Defining the population size.\n",
    "pop_size = (sol_per_pop,col_len) # The population will have sol_per_pop chromosome where each chromosome has num_weights genes.\n",
    "#Creating the initial population.\n",
    "new_population = np.random.randint(63, size=pop_size)\n",
    "print(new_population)"
   ]
  },
  {
   "cell_type": "code",
   "execution_count": 9,
   "metadata": {},
   "outputs": [
    {
     "name": "stdout",
     "output_type": "stream",
     "text": [
      "[0.933570581257414, 0.9341637010676157, 0.8991696322657177, 0.8991696322657177, 0.8825622775800712, 0.9062870699881376, 0.8784104389086596, 0.933570581257414]\n",
      "Generation :  0\n",
      "\n",
      "[0.9341637010676157, 0.933570581257414, 0.933570581257414, 0.9062870699881376, 0.938908659549229, 0.9400948991696323, 0.9122182680901542, 0.9199288256227758]\n",
      "[0.9400948991696323, 0.938908659549229, 0.9341637010676157, 0.933570581257414, 0.9365361803084223, 0.9341637010676157, 0.928232502965599, 0.8926453143534994]\n",
      "[0.9400948991696323, 0.938908659549229, 0.9365361803084223, 0.9341637010676157, 0.938908659549229, 0.938908659549229, 0.9181494661921709, 0.9317912218268091]\n",
      "[0.9400948991696323, 0.938908659549229, 0.938908659549229, 0.938908659549229, 0.9341637010676157, 0.9329774614472124, 0.9424673784104389, 0.9317912218268091]\n",
      "[0.9424673784104389, 0.9400948991696323, 0.938908659549229, 0.938908659549229, 0.9400948991696323, 0.9442467378410438, 0.9341637010676157, 0.9448398576512456]\n",
      "[0.9448398576512456, 0.9442467378410438, 0.9424673784104389, 0.9400948991696323, 0.9442467378410438, 0.9424673784104389, 0.9400948991696323, 0.9448398576512456]\n",
      "[0.9448398576512456, 0.9448398576512456, 0.9442467378410438, 0.9442467378410438, 0.9448398576512456, 0.9436536180308422, 0.9442467378410438, 0.9448398576512456]\n",
      "[0.9448398576512456, 0.9448398576512456, 0.9448398576512456, 0.9448398576512456, 0.9448398576512456, 0.9448398576512456, 0.9448398576512456, 0.9448398576512456]\n",
      "[0.9448398576512456, 0.9448398576512456, 0.9448398576512456, 0.9448398576512456, 0.9448398576512456, 0.9448398576512456, 0.9448398576512456, 0.9448398576512456]\n"
     ]
    }
   ],
   "source": [
    "num_generations = 10\n",
    "for generation in range(num_generations):\n",
    "    # Measing the fitness of each chromosome in the population.\n",
    "    fitness = fit_svm(new_population, X_train,y_train,X_test,y_test)\n",
    "\n",
    "    print(fitness)\n",
    "\n",
    "    # Selecting the best parents in the population for mating.\n",
    "    parents = select_mating_pool(new_population, fitness, \n",
    "                                      num_parents_mating)\n",
    "    \n",
    "    # print(parents)\n",
    "\n",
    "    # Generating next generation using crossover.\n",
    "    offspring_crossover = crossover(parents,\n",
    "                                       offspring_size=(pop_size[0]-parents.shape[0], col_len))\n",
    "\n",
    "\n",
    "    # # Adding some variations to the offsrping using mutation.\n",
    "    # offspring_mutation = mutation(offspring_crossover)\n",
    "\n",
    "    # print(offspring_mutation)\n",
    "\n",
    "    # Creating the new population based on the parents and offspring.\n",
    "    new_population[0:parents.shape[0], :] = parents\n",
    "    new_population[parents.shape[0]:, :] = offspring_crossover  # should be offspring_mutation\n",
    "\n",
    "    # new_population[0:parents.shape[0], :] = offspring_crossover\n",
    "\n",
    "    # The best result in the current iteration.\n",
    "    if generation%10 ==0:\n",
    "        print(\"Generation : \", generation)\n",
    "        # print(offspring_crossover)\n",
    "        print()"
   ]
  },
  {
   "cell_type": "code",
   "execution_count": 11,
   "metadata": {},
   "outputs": [
    {
     "name": "stdout",
     "output_type": "stream",
     "text": [
      "Best solution :  [[[28  1 51 18 16 62 53 52  9 36  0 30  2  2  0 27  3 12 50 13 37  6  7\n",
      "   32 42 36 47 21 35 12 55 26]\n",
      "  [28  1 51 18 16 62 53 52  9 36  0 30  2  2  0 27  3 12 50 13 37  6  7\n",
      "   32 42 36 47 21 35 12 55 26]\n",
      "  [28  1 51 18 16 62 53 52  9 36  0 30  2  2  0 27  3 12 50 13 37  6  7\n",
      "   32 42 36 47 21 35 12 55 26]\n",
      "  [28  1 51 18 16 62 53 52  9 36  0 30  2  2  0 27  3 12 50 13 37  6  7\n",
      "   32 42 36 47 21 35 12 55 26]\n",
      "  [28  1 51 18 16 62 53 52  9 36  0 30  2  2  0 27  3 12 50 13 37  6  7\n",
      "   32 42 36 47 21 35 12 55 26]\n",
      "  [28  1 51 18 16 62 53 52  9 36  0 30  2  2  0 27  3 12 50 13 37  6  7\n",
      "   32 42 36 47 21 35 12 55 26]\n",
      "  [28  1 51 18 16 62 53 52  9 36  0 30  2  2  0 27  3 12 50 13 37  6  7\n",
      "   32 42 36 47 21 35 12 55 26]\n",
      "  [28  1 51 18 16 62 53 52  9 36  0 30  2  2  0 27  3 12 50 13 37  6  7\n",
      "   32 42 36 47 21 35 12 55 26]]]\n",
      "Best solution fitness :  0.9448398576512456\n"
     ]
    }
   ],
   "source": [
    "# Getting the best solution after iterating finishing all generations.\n",
    "#At first, the fitness is calculated for each solution in the final generation.\n",
    "fitness = fit_svm(new_population, X_train, y_train, X_test,y_test)\n",
    "# Then return the index of that solution corresponding to the best fitness.\n",
    "best_match_idx = np.where(fitness == np.max(fitness))\n",
    "\n",
    "print(\"Best solution : \", new_population[best_match_idx, :])\n",
    "print(\"Best solution fitness : \", fitness[best_match_idx[0][0]])"
   ]
  }
 ],
 "metadata": {
  "kernelspec": {
   "display_name": "Python 3",
   "language": "python",
   "name": "python3"
  },
  "language_info": {
   "codemirror_mode": {
    "name": "ipython",
    "version": 3
   },
   "file_extension": ".py",
   "mimetype": "text/x-python",
   "name": "python",
   "nbconvert_exporter": "python",
   "pygments_lexer": "ipython3",
   "version": "3.11.4"
  }
 },
 "nbformat": 4,
 "nbformat_minor": 2
}
